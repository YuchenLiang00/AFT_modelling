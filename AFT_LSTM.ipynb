{
 "cells": [
  {
   "cell_type": "code",
   "execution_count": 2,
   "id": "5b637dc3",
   "metadata": {},
   "outputs": [],
   "source": [
    "import pandas as pd\n",
    "import numpy as np\n",
    "import matplotlib.pyplot as plt\n",
    "import random\n",
    "import os\n",
    "import torch\n",
    "import torch.nn as nn\n",
    "import torch.optim as optim\n",
    "import torch.nn.functional as F\n",
    "from torch.utils.data import IterableDataset, Dataset, DataLoader\n",
    "from tqdm import *\n",
    "os.chdir(r\"D:\\Desktop\\研一module1\\AFT\\data\\AI量化模型预测挑战赛公开数据\\train\")\n",
    "file_list = os.listdir()"
   ]
  },
  {
   "cell_type": "code",
   "execution_count": 3,
   "id": "d063dcfc",
   "metadata": {},
   "outputs": [],
   "source": [
    "stock_list = list(range(10))\n",
    "date_list = list(range(64))\n",
    "half_list = ['am', 'pm']\n",
    "\n",
    "\n",
    "def gen_filename(stock_id, date_id, half_id):\n",
    "    return \"snapshot_sym{}_date{}_{}.csv\".format(stock_id, date_id, half_id)"
   ]
  },
  {
   "cell_type": "code",
   "execution_count": 4,
   "id": "97bf74a2",
   "metadata": {},
   "outputs": [],
   "source": [
    "class StockDataset(Dataset):\n",
    "    def __init__(self, data, seq_len, num_of_seconds):\n",
    "        self.data = data\n",
    "        self.seq_len = seq_len\n",
    "        self.num_of_seconds = num_of_seconds\n",
    "\n",
    "    def __len__(self):\n",
    "        return len(self.data) * self.num_of_seconds\n",
    "\n",
    "    def __getitem__(self, idx):\n",
    "        date = idx // self.num_of_seconds\n",
    "        second = idx % self.num_of_seconds\n",
    "        X = self.data[date][:, max(0, second+1-self.seq_len):(second+1), :-1]\n",
    "        y = self.data[date][:, second, -1]\n",
    "        return X, y"
   ]
  },
  {
   "cell_type": "code",
   "execution_count": 5,
   "id": "d68b942b",
   "metadata": {},
   "outputs": [
    {
     "data": {
      "text/plain": [
       "[(10, 3998, 22), (8, 3998, 22)]"
      ]
     },
     "execution_count": 5,
     "metadata": {},
     "output_type": "execute_result"
    }
   ],
   "source": [
    "[(10, 3998, 22),\n",
    " (8, 3998, 22)]"
   ]
  },
  {
   "cell_type": "code",
   "execution_count": null,
   "id": "30f855fa",
   "metadata": {},
   "outputs": [],
   "source": [
    "(seq_len, batch_size, features_size)"
   ]
  },
  {
   "cell_type": "code",
   "execution_count": 1,
   "id": "adcc81c6",
   "metadata": {},
   "outputs": [
    {
     "data": {
      "text/plain": [
       "255872"
      ]
     },
     "execution_count": 1,
     "metadata": {},
     "output_type": "execute_result"
    }
   ],
   "source": []
  },
  {
   "cell_type": "code",
   "execution_count": 4,
   "id": "9db9c232",
   "metadata": {},
   "outputs": [],
   "source": []
  },
  {
   "cell_type": "code",
   "execution_count": null,
   "id": "72f75056",
   "metadata": {},
   "outputs": [],
   "source": [
    "# def get_Dataset(date_start, date_end):\n",
    "#     data_dict = []\n",
    "#     for d in tqdm(range(date_start, date_end)):\n",
    "#         daily_data = []\n",
    "#         for s in stock_list:\n",
    "#             if gen_filename(s, d, 'am') not in file_list or gen_filename(s, d, 'pm') not in file_list:\n",
    "#                 continue\n",
    "#             am_df = pd.read_csv(gen_filename(s, d, 'am'))\n",
    "#             pm_df = pd.read_csv(gen_filename(s, d, 'pm'))\n",
    "#             df = pd.concat([am_df, pm_df])\n",
    "#             daily_data.append(np.array(df.iloc[:, 4:-4]))\n",
    "#         daily_data = np.array(daily_data)\n",
    "#         data_dict.append(daily_data)\n",
    "#     ds = StockDataset(data_dict, 100, 3998)\n",
    "#     dl = DataLoader(ds, batch_size=1)\n",
    "#     return ds, dl"
   ]
  },
  {
   "cell_type": "code",
   "execution_count": 6,
   "id": "4219ef40",
   "metadata": {},
   "outputs": [],
   "source": [
    "# v2\n",
    "def get_Dataset(date_start, date_end):\n",
    "    data_dict = []\n",
    "    for d in tqdm(range(date_start, date_end)):\n",
    "        daily_data = []\n",
    "        for s in stock_list:\n",
    "            if gen_filename(s, d, 'am') not in file_list or gen_filename(s, d, 'pm') not in file_list:\n",
    "                continue\n",
    "            am_df = pd.read_csv(gen_filename(s, d, 'am'))\n",
    "            pm_df = pd.read_csv(gen_filename(s, d, 'pm'))\n",
    "            df = pd.concat([am_df, pm_df])\n",
    "            df = df.iloc[:, 4:-4]\n",
    "            df = df.drop(\"amount_delta\", axis=1)\n",
    "            df = df.div(df.iloc[0]).replace([np.nan, np.inf, -np.inf], 0.0)\n",
    "            daily_data.append(df)\n",
    "        daily_data = np.array(daily_data)\n",
    "        data_dict.append(daily_data)\n",
    "    ds = StockDataset(data_dict, 600, 3998)\n",
    "    dl = DataLoader(ds, batch_size=1)\n",
    "    return ds, dl"
   ]
  },
  {
   "cell_type": "code",
   "execution_count": 7,
   "id": "5af7442d",
   "metadata": {},
   "outputs": [
    {
     "name": "stderr",
     "output_type": "stream",
     "text": [
      "100%|██████████| 48/48 [00:25<00:00,  1.86it/s]\n",
      "100%|██████████| 16/16 [00:08<00:00,  1.78it/s]\n"
     ]
    }
   ],
   "source": [
    "train_ds, train_dl = get_Dataset(0, 48)\n",
    "val_ds, val_dl = get_Dataset(48, 64)"
   ]
  },
  {
   "cell_type": "code",
   "execution_count": 11,
   "id": "73b804ff",
   "metadata": {},
   "outputs": [],
   "source": [
    "class GRUmodel(nn.Module):\n",
    "    def __init__(self, input_size, hidden_size, num_layers, output_size):\n",
    "        super(GRUmodel, self).__init__()\n",
    "        self.gru = nn.GRU(input_size, hidden_size,\n",
    "                          num_layers, batch_first=True)\n",
    "        self.bn = nn.BatchNorm1d(hidden_size)\n",
    "        self.fc = nn.Linear(hidden_size, output_size)\n",
    "\n",
    "    def forward(self, x):\n",
    "        x, _ = self.gru(x)\n",
    "        x = self.bn(x[:, -1, :])\n",
    "        # x = x[:, -1, :]\n",
    "        x = self.fc(x)\n",
    "        return x"
   ]
  },
  {
   "cell_type": "code",
   "execution_count": 180,
   "id": "9307bb61",
   "metadata": {},
   "outputs": [
    {
     "data": {
      "text/plain": [
       "tensor([1.0000, 1.0000, 1.0000], grad_fn=<SumBackward1>)"
      ]
     },
     "execution_count": 180,
     "metadata": {},
     "output_type": "execute_result"
    }
   ],
   "source": [
    "model = GRUmodel(input_size=23, hidden_size=16, num_layers=1, output_size=3)\n",
    "X = torch.from_numpy(np.random.random(size=(3, 10, 23)).astype(np.float32))\n",
    "model(X).sum(dim=1)"
   ]
  },
  {
   "cell_type": "code",
   "execution_count": 9,
   "id": "abbfb5b1",
   "metadata": {},
   "outputs": [],
   "source": [
    "def determine_seed(seed=0):\n",
    "    random.seed(seed)\n",
    "    os.environ['PYTHONHASHSEED'] = str(seed)\n",
    "    np.random.seed(seed)\n",
    "    torch.manual_seed(seed)\n",
    "    torch.cuda.manual_seed(seed)\n",
    "    torch.cuda.manual_seed_all(seed)\n",
    "    torch.backends.cudnn.benchmark = False\n",
    "    torch.backends.cudnn.deterministic = True\n",
    "\n",
    "\n",
    "determine_seed()"
   ]
  },
  {
   "cell_type": "code",
   "execution_count": 212,
   "id": "49fb8ed0",
   "metadata": {},
   "outputs": [
    {
     "data": {
      "text/plain": [
       "tensor([0., 1., 1., 1., 1., 1., 1., 1.], dtype=torch.float64)"
      ]
     },
     "execution_count": 212,
     "metadata": {},
     "output_type": "execute_result"
    }
   ],
   "source": []
  },
  {
   "cell_type": "code",
   "execution_count": 12,
   "id": "a4ba7b99",
   "metadata": {
    "scrolled": true
   },
   "outputs": [
    {
     "name": "stderr",
     "output_type": "stream",
     "text": [
      "100%|██████████| 191904/191904 [01:59<00:00, 1602.24it/s]\n",
      "100%|██████████| 63968/63968 [00:32<00:00, 1971.45it/s]\n",
      "  0%|          | 274/191904 [00:00<01:10, 2726.66it/s]"
     ]
    },
    {
     "name": "stdout",
     "output_type": "stream",
     "text": [
      "0.595512533572068 0.008477134318400794 0.4988691437802908 0.009218500645690528\n"
     ]
    },
    {
     "name": "stderr",
     "output_type": "stream",
     "text": [
      "100%|██████████| 191904/191904 [02:00<00:00, 1591.30it/s]\n",
      "100%|██████████| 63968/63968 [00:32<00:00, 1965.77it/s]\n",
      "  0%|          | 300/191904 [00:00<01:05, 2947.08it/s]"
     ]
    },
    {
     "name": "stdout",
     "output_type": "stream",
     "text": [
      "0.6312108325872874 0.007793136142450203 0.4894991922455573 0.009126355656315054\n"
     ]
    },
    {
     "name": "stderr",
     "output_type": "stream",
     "text": [
      "100%|██████████| 191904/191904 [02:00<00:00, 1597.83it/s]\n",
      "100%|██████████| 63968/63968 [00:33<00:00, 1917.63it/s]\n",
      "  0%|          | 334/191904 [00:00<00:57, 3315.77it/s]"
     ]
    },
    {
     "name": "stdout",
     "output_type": "stream",
     "text": [
      "0.6544315129811996 0.007576248557591798 0.4849757673667205 0.00937338842693092\n"
     ]
    },
    {
     "name": "stderr",
     "output_type": "stream",
     "text": [
      "100%|██████████| 191904/191904 [02:04<00:00, 1547.04it/s]\n",
      "100%|██████████| 63968/63968 [00:34<00:00, 1831.64it/s]\n",
      "  0%|          | 300/191904 [00:00<01:06, 2873.72it/s]"
     ]
    },
    {
     "name": "stdout",
     "output_type": "stream",
     "text": [
      "0.6648948075201433 0.007375785878292467 0.49596122778675283 0.009361325100198456\n"
     ]
    },
    {
     "name": "stderr",
     "output_type": "stream",
     "text": [
      "100%|██████████| 191904/191904 [02:03<00:00, 1551.09it/s]\n",
      "100%|██████████| 63968/63968 [00:32<00:00, 1951.95it/s]\n",
      "  0%|          | 316/191904 [00:00<01:01, 3135.16it/s]"
     ]
    },
    {
     "name": "stdout",
     "output_type": "stream",
     "text": [
      "0.6745188003581021 0.0072006172410788456 0.5012924071082391 0.00947431609334574\n"
     ]
    },
    {
     "name": "stderr",
     "output_type": "stream",
     "text": [
      "100%|██████████| 191904/191904 [01:59<00:00, 1605.85it/s]\n",
      "100%|██████████| 63968/63968 [00:31<00:00, 2014.16it/s]\n",
      "  0%|          | 311/191904 [00:00<01:02, 3087.45it/s]"
     ]
    },
    {
     "name": "stdout",
     "output_type": "stream",
     "text": [
      "0.6859333034914951 0.0070856937378264775 0.5053311793214863 0.009937092477829382\n"
     ]
    },
    {
     "name": "stderr",
     "output_type": "stream",
     "text": [
      "100%|██████████| 191904/191904 [02:04<00:00, 1543.94it/s]\n",
      "100%|██████████| 63968/63968 [00:33<00:00, 1892.41it/s]\n",
      "  0%|          | 350/191904 [00:00<00:55, 3471.73it/s]"
     ]
    },
    {
     "name": "stdout",
     "output_type": "stream",
     "text": [
      "0.6880595344673232 0.0070634716781617524 0.5197092084006462 0.009535877959799951\n"
     ]
    },
    {
     "name": "stderr",
     "output_type": "stream",
     "text": [
      "100%|██████████| 191904/191904 [02:00<00:00, 1598.04it/s]\n",
      "100%|██████████| 63968/63968 [00:32<00:00, 1992.06it/s]\n",
      "  0%|          | 324/191904 [00:00<00:59, 3217.72it/s]"
     ]
    },
    {
     "name": "stdout",
     "output_type": "stream",
     "text": [
      "0.6922560429722471 0.006991886313972358 0.5093699515347334 0.009806706069718455\n"
     ]
    },
    {
     "name": "stderr",
     "output_type": "stream",
     "text": [
      "100%|██████████| 191904/191904 [02:01<00:00, 1585.50it/s]\n",
      "100%|██████████| 63968/63968 [00:33<00:00, 1933.41it/s]\n",
      "  0%|          | 331/191904 [00:00<00:58, 3289.99it/s]"
     ]
    },
    {
     "name": "stdout",
     "output_type": "stream",
     "text": [
      "0.7079789615040286 0.0068469507609178306 0.5069466882067851 0.00962031239726622\n"
     ]
    },
    {
     "name": "stderr",
     "output_type": "stream",
     "text": [
      "100%|██████████| 191904/191904 [01:57<00:00, 1628.72it/s]\n",
      "100%|██████████| 63968/63968 [00:31<00:00, 2015.86it/s]\n",
      "  0%|          | 372/191904 [00:00<00:51, 3693.04it/s]"
     ]
    },
    {
     "name": "stdout",
     "output_type": "stream",
     "text": [
      "0.7074753804834378 0.006766625429533592 0.4922455573505654 0.010782443635955848\n"
     ]
    },
    {
     "name": "stderr",
     "output_type": "stream",
     "text": [
      "100%|██████████| 191904/191904 [01:58<00:00, 1612.99it/s]\n",
      "100%|██████████| 63968/63968 [00:33<00:00, 1881.80it/s]\n",
      "  0%|          | 585/191904 [00:00<01:11, 2679.34it/s]"
     ]
    },
    {
     "name": "stdout",
     "output_type": "stream",
     "text": [
      "0.708034914950761 0.006770064436055798 0.489983844911147 0.010076717493599984\n"
     ]
    },
    {
     "name": "stderr",
     "output_type": "stream",
     "text": [
      "100%|██████████| 191904/191904 [02:01<00:00, 1585.72it/s]\n",
      "100%|██████████| 63968/63968 [00:33<00:00, 1936.24it/s]\n",
      "  0%|          | 306/191904 [00:00<01:03, 3037.80it/s]"
     ]
    },
    {
     "name": "stdout",
     "output_type": "stream",
     "text": [
      "0.7140219337511191 0.006671267191150948 0.498546042003231 0.01065894517779216\n"
     ]
    },
    {
     "name": "stderr",
     "output_type": "stream",
     "text": [
      "100%|██████████| 191904/191904 [01:59<00:00, 1600.46it/s]\n",
      "100%|██████████| 63968/63968 [00:32<00:00, 1948.75it/s]\n",
      "  0%|          | 300/191904 [00:00<01:06, 2875.79it/s]"
     ]
    },
    {
     "name": "stdout",
     "output_type": "stream",
     "text": [
      "0.7197291853178156 0.0065818658113797664 0.502746365105008 0.010419881476341873\n"
     ]
    },
    {
     "name": "stderr",
     "output_type": "stream",
     "text": [
      "100%|██████████| 191904/191904 [01:59<00:00, 1601.07it/s]\n",
      "100%|██████████| 63968/63968 [00:32<00:00, 1942.24it/s]\n",
      "  0%|          | 344/191904 [00:00<00:56, 3417.20it/s]"
     ]
    },
    {
     "name": "stdout",
     "output_type": "stream",
     "text": [
      "0.7251566696508505 0.006518723665149123 0.5040387722132472 0.010926862779339443\n"
     ]
    },
    {
     "name": "stderr",
     "output_type": "stream",
     "text": [
      "100%|██████████| 191904/191904 [02:00<00:00, 1596.24it/s]\n",
      "100%|██████████| 63968/63968 [00:32<00:00, 1960.46it/s]\n",
      "  0%|          | 341/191904 [00:00<00:56, 3385.74it/s]"
     ]
    },
    {
     "name": "stdout",
     "output_type": "stream",
     "text": [
      "0.7254364368845121 0.00651502508464477 0.5037156704361874 0.011189398713588804\n"
     ]
    },
    {
     "name": "stderr",
     "output_type": "stream",
     "text": [
      "100%|██████████| 191904/191904 [01:59<00:00, 1607.37it/s]\n",
      "100%|██████████| 63968/63968 [00:32<00:00, 1960.13it/s]\n",
      "  0%|          | 337/191904 [00:00<00:57, 3345.51it/s]"
     ]
    },
    {
     "name": "stdout",
     "output_type": "stream",
     "text": [
      "0.7317032229185317 0.006394663923391282 0.49822294022617125 0.01080958306297414\n"
     ]
    },
    {
     "name": "stderr",
     "output_type": "stream",
     "text": [
      "100%|██████████| 191904/191904 [02:00<00:00, 1590.68it/s]\n",
      "100%|██████████| 63968/63968 [00:34<00:00, 1859.43it/s]\n",
      "  0%|          | 315/191904 [00:00<01:01, 3127.13it/s]"
     ]
    },
    {
     "name": "stdout",
     "output_type": "stream",
     "text": [
      "0.7350044762757386 0.006382662449320922 0.49176090468497574 0.011657925711207655\n"
     ]
    },
    {
     "name": "stderr",
     "output_type": "stream",
     "text": [
      "100%|██████████| 191904/191904 [01:58<00:00, 1621.42it/s]\n",
      "100%|██████████| 63968/63968 [00:32<00:00, 1967.56it/s]\n",
      "  0%|          | 337/191904 [00:00<00:57, 3345.56it/s]"
     ]
    },
    {
     "name": "stdout",
     "output_type": "stream",
     "text": [
      "0.7335496866606983 0.006363125576899983 0.4930533117932149 0.011248446391124824\n"
     ]
    },
    {
     "name": "stderr",
     "output_type": "stream",
     "text": [
      "100%|██████████| 191904/191904 [02:37<00:00, 1221.32it/s]\n",
      "100%|██████████| 63968/63968 [01:02<00:00, 1029.70it/s]\n",
      "  0%|          | 366/191904 [00:00<00:52, 3633.50it/s]"
     ]
    },
    {
     "name": "stdout",
     "output_type": "stream",
     "text": [
      "0.7365711727842436 0.006320625004865328 0.4812600969305331 0.011953923311746079\n"
     ]
    },
    {
     "name": "stderr",
     "output_type": "stream",
     "text": [
      " 43%|████▎     | 83025/191904 [16:22<21:28, 84.52it/s]    \n"
     ]
    },
    {
     "ename": "KeyboardInterrupt",
     "evalue": "",
     "output_type": "error",
     "traceback": [
      "\u001b[1;31m---------------------------------------------------------------------------\u001b[0m",
      "\u001b[1;31mKeyboardInterrupt\u001b[0m                         Traceback (most recent call last)",
      "\u001b[1;32m<ipython-input-12-3d74afecb4ca>\u001b[0m in \u001b[0;36m<module>\u001b[1;34m\u001b[0m\n\u001b[0;32m     20\u001b[0m     \u001b[0mtrain_correct\u001b[0m \u001b[1;33m=\u001b[0m \u001b[1;36m0.0\u001b[0m\u001b[1;33m\u001b[0m\u001b[1;33m\u001b[0m\u001b[0m\n\u001b[0;32m     21\u001b[0m     \u001b[0mtrain_total\u001b[0m \u001b[1;33m=\u001b[0m \u001b[1;36m0.0\u001b[0m\u001b[1;33m\u001b[0m\u001b[1;33m\u001b[0m\u001b[0m\n\u001b[1;32m---> 22\u001b[1;33m     \u001b[1;32mfor\u001b[0m \u001b[0mi\u001b[0m\u001b[1;33m,\u001b[0m \u001b[1;33m(\u001b[0m\u001b[0mX\u001b[0m\u001b[1;33m,\u001b[0m \u001b[0my\u001b[0m\u001b[1;33m)\u001b[0m \u001b[1;32min\u001b[0m \u001b[0menumerate\u001b[0m\u001b[1;33m(\u001b[0m\u001b[0mtqdm\u001b[0m\u001b[1;33m(\u001b[0m\u001b[0mtrain_dl\u001b[0m\u001b[1;33m)\u001b[0m\u001b[1;33m)\u001b[0m\u001b[1;33m:\u001b[0m\u001b[1;33m\u001b[0m\u001b[1;33m\u001b[0m\u001b[0m\n\u001b[0m\u001b[0;32m     23\u001b[0m         \u001b[1;32mif\u001b[0m \u001b[1;33m(\u001b[0m\u001b[0mi\u001b[0m \u001b[1;33m+\u001b[0m \u001b[1;36m1\u001b[0m\u001b[1;33m)\u001b[0m \u001b[1;33m%\u001b[0m \u001b[1;36m100\u001b[0m \u001b[1;33m!=\u001b[0m \u001b[1;36m0\u001b[0m\u001b[1;33m:\u001b[0m\u001b[1;33m\u001b[0m\u001b[1;33m\u001b[0m\u001b[0m\n\u001b[0;32m     24\u001b[0m             \u001b[1;32mcontinue\u001b[0m\u001b[1;33m\u001b[0m\u001b[1;33m\u001b[0m\u001b[0m\n",
      "\u001b[1;32mD:\\chorme\\anaconda\\lib\\site-packages\\tqdm\\std.py\u001b[0m in \u001b[0;36m__iter__\u001b[1;34m(self)\u001b[0m\n\u001b[0;32m   1176\u001b[0m \u001b[1;33m\u001b[0m\u001b[0m\n\u001b[0;32m   1177\u001b[0m         \u001b[1;32mtry\u001b[0m\u001b[1;33m:\u001b[0m\u001b[1;33m\u001b[0m\u001b[1;33m\u001b[0m\u001b[0m\n\u001b[1;32m-> 1178\u001b[1;33m             \u001b[1;32mfor\u001b[0m \u001b[0mobj\u001b[0m \u001b[1;32min\u001b[0m \u001b[0miterable\u001b[0m\u001b[1;33m:\u001b[0m\u001b[1;33m\u001b[0m\u001b[1;33m\u001b[0m\u001b[0m\n\u001b[0m\u001b[0;32m   1179\u001b[0m                 \u001b[1;32myield\u001b[0m \u001b[0mobj\u001b[0m\u001b[1;33m\u001b[0m\u001b[1;33m\u001b[0m\u001b[0m\n\u001b[0;32m   1180\u001b[0m                 \u001b[1;31m# Update and possibly print the progressbar.\u001b[0m\u001b[1;33m\u001b[0m\u001b[1;33m\u001b[0m\u001b[1;33m\u001b[0m\u001b[0m\n",
      "\u001b[1;32mD:\\chorme\\anaconda\\lib\\site-packages\\torch\\utils\\data\\dataloader.py\u001b[0m in \u001b[0;36m__next__\u001b[1;34m(self)\u001b[0m\n\u001b[0;32m    632\u001b[0m                 \u001b[1;31m# TODO(https://github.com/pytorch/pytorch/issues/76750)\u001b[0m\u001b[1;33m\u001b[0m\u001b[1;33m\u001b[0m\u001b[1;33m\u001b[0m\u001b[0m\n\u001b[0;32m    633\u001b[0m                 \u001b[0mself\u001b[0m\u001b[1;33m.\u001b[0m\u001b[0m_reset\u001b[0m\u001b[1;33m(\u001b[0m\u001b[1;33m)\u001b[0m  \u001b[1;31m# type: ignore[call-arg]\u001b[0m\u001b[1;33m\u001b[0m\u001b[1;33m\u001b[0m\u001b[0m\n\u001b[1;32m--> 634\u001b[1;33m             \u001b[0mdata\u001b[0m \u001b[1;33m=\u001b[0m \u001b[0mself\u001b[0m\u001b[1;33m.\u001b[0m\u001b[0m_next_data\u001b[0m\u001b[1;33m(\u001b[0m\u001b[1;33m)\u001b[0m\u001b[1;33m\u001b[0m\u001b[1;33m\u001b[0m\u001b[0m\n\u001b[0m\u001b[0;32m    635\u001b[0m             \u001b[0mself\u001b[0m\u001b[1;33m.\u001b[0m\u001b[0m_num_yielded\u001b[0m \u001b[1;33m+=\u001b[0m \u001b[1;36m1\u001b[0m\u001b[1;33m\u001b[0m\u001b[1;33m\u001b[0m\u001b[0m\n\u001b[0;32m    636\u001b[0m             \u001b[1;32mif\u001b[0m \u001b[0mself\u001b[0m\u001b[1;33m.\u001b[0m\u001b[0m_dataset_kind\u001b[0m \u001b[1;33m==\u001b[0m \u001b[0m_DatasetKind\u001b[0m\u001b[1;33m.\u001b[0m\u001b[0mIterable\u001b[0m \u001b[1;32mand\u001b[0m\u001b[0;31m \u001b[0m\u001b[0;31m\\\u001b[0m\u001b[1;33m\u001b[0m\u001b[1;33m\u001b[0m\u001b[0m\n",
      "\u001b[1;32mD:\\chorme\\anaconda\\lib\\site-packages\\torch\\utils\\data\\dataloader.py\u001b[0m in \u001b[0;36m_next_data\u001b[1;34m(self)\u001b[0m\n\u001b[0;32m    676\u001b[0m     \u001b[1;32mdef\u001b[0m \u001b[0m_next_data\u001b[0m\u001b[1;33m(\u001b[0m\u001b[0mself\u001b[0m\u001b[1;33m)\u001b[0m\u001b[1;33m:\u001b[0m\u001b[1;33m\u001b[0m\u001b[1;33m\u001b[0m\u001b[0m\n\u001b[0;32m    677\u001b[0m         \u001b[0mindex\u001b[0m \u001b[1;33m=\u001b[0m \u001b[0mself\u001b[0m\u001b[1;33m.\u001b[0m\u001b[0m_next_index\u001b[0m\u001b[1;33m(\u001b[0m\u001b[1;33m)\u001b[0m  \u001b[1;31m# may raise StopIteration\u001b[0m\u001b[1;33m\u001b[0m\u001b[1;33m\u001b[0m\u001b[0m\n\u001b[1;32m--> 678\u001b[1;33m         \u001b[0mdata\u001b[0m \u001b[1;33m=\u001b[0m \u001b[0mself\u001b[0m\u001b[1;33m.\u001b[0m\u001b[0m_dataset_fetcher\u001b[0m\u001b[1;33m.\u001b[0m\u001b[0mfetch\u001b[0m\u001b[1;33m(\u001b[0m\u001b[0mindex\u001b[0m\u001b[1;33m)\u001b[0m  \u001b[1;31m# may raise StopIteration\u001b[0m\u001b[1;33m\u001b[0m\u001b[1;33m\u001b[0m\u001b[0m\n\u001b[0m\u001b[0;32m    679\u001b[0m         \u001b[1;32mif\u001b[0m \u001b[0mself\u001b[0m\u001b[1;33m.\u001b[0m\u001b[0m_pin_memory\u001b[0m\u001b[1;33m:\u001b[0m\u001b[1;33m\u001b[0m\u001b[1;33m\u001b[0m\u001b[0m\n\u001b[0;32m    680\u001b[0m             \u001b[0mdata\u001b[0m \u001b[1;33m=\u001b[0m \u001b[0m_utils\u001b[0m\u001b[1;33m.\u001b[0m\u001b[0mpin_memory\u001b[0m\u001b[1;33m.\u001b[0m\u001b[0mpin_memory\u001b[0m\u001b[1;33m(\u001b[0m\u001b[0mdata\u001b[0m\u001b[1;33m,\u001b[0m \u001b[0mself\u001b[0m\u001b[1;33m.\u001b[0m\u001b[0m_pin_memory_device\u001b[0m\u001b[1;33m)\u001b[0m\u001b[1;33m\u001b[0m\u001b[1;33m\u001b[0m\u001b[0m\n",
      "\u001b[1;32mD:\\chorme\\anaconda\\lib\\site-packages\\torch\\utils\\data\\_utils\\fetch.py\u001b[0m in \u001b[0;36mfetch\u001b[1;34m(self, possibly_batched_index)\u001b[0m\n\u001b[0;32m     52\u001b[0m         \u001b[1;32melse\u001b[0m\u001b[1;33m:\u001b[0m\u001b[1;33m\u001b[0m\u001b[1;33m\u001b[0m\u001b[0m\n\u001b[0;32m     53\u001b[0m             \u001b[0mdata\u001b[0m \u001b[1;33m=\u001b[0m \u001b[0mself\u001b[0m\u001b[1;33m.\u001b[0m\u001b[0mdataset\u001b[0m\u001b[1;33m[\u001b[0m\u001b[0mpossibly_batched_index\u001b[0m\u001b[1;33m]\u001b[0m\u001b[1;33m\u001b[0m\u001b[1;33m\u001b[0m\u001b[0m\n\u001b[1;32m---> 54\u001b[1;33m         \u001b[1;32mreturn\u001b[0m \u001b[0mself\u001b[0m\u001b[1;33m.\u001b[0m\u001b[0mcollate_fn\u001b[0m\u001b[1;33m(\u001b[0m\u001b[0mdata\u001b[0m\u001b[1;33m)\u001b[0m\u001b[1;33m\u001b[0m\u001b[1;33m\u001b[0m\u001b[0m\n\u001b[0m",
      "\u001b[1;32mD:\\chorme\\anaconda\\lib\\site-packages\\torch\\utils\\data\\_utils\\collate.py\u001b[0m in \u001b[0;36mdefault_collate\u001b[1;34m(batch)\u001b[0m\n\u001b[0;32m    262\u001b[0m             \u001b[1;33m>>\u001b[0m\u001b[1;33m>\u001b[0m \u001b[0mdefault_collate\u001b[0m\u001b[1;33m(\u001b[0m\u001b[0mbatch\u001b[0m\u001b[1;33m)\u001b[0m  \u001b[1;31m# Handle `CustomType` automatically\u001b[0m\u001b[1;33m\u001b[0m\u001b[1;33m\u001b[0m\u001b[0m\n\u001b[0;32m    263\u001b[0m     \"\"\"\n\u001b[1;32m--> 264\u001b[1;33m     \u001b[1;32mreturn\u001b[0m \u001b[0mcollate\u001b[0m\u001b[1;33m(\u001b[0m\u001b[0mbatch\u001b[0m\u001b[1;33m,\u001b[0m \u001b[0mcollate_fn_map\u001b[0m\u001b[1;33m=\u001b[0m\u001b[0mdefault_collate_fn_map\u001b[0m\u001b[1;33m)\u001b[0m\u001b[1;33m\u001b[0m\u001b[1;33m\u001b[0m\u001b[0m\n\u001b[0m",
      "\u001b[1;32mD:\\chorme\\anaconda\\lib\\site-packages\\torch\\utils\\data\\_utils\\collate.py\u001b[0m in \u001b[0;36mcollate\u001b[1;34m(batch, collate_fn_map)\u001b[0m\n\u001b[0;32m    140\u001b[0m \u001b[1;33m\u001b[0m\u001b[0m\n\u001b[0;32m    141\u001b[0m         \u001b[1;32mif\u001b[0m \u001b[0misinstance\u001b[0m\u001b[1;33m(\u001b[0m\u001b[0melem\u001b[0m\u001b[1;33m,\u001b[0m \u001b[0mtuple\u001b[0m\u001b[1;33m)\u001b[0m\u001b[1;33m:\u001b[0m\u001b[1;33m\u001b[0m\u001b[1;33m\u001b[0m\u001b[0m\n\u001b[1;32m--> 142\u001b[1;33m             \u001b[1;32mreturn\u001b[0m \u001b[1;33m[\u001b[0m\u001b[0mcollate\u001b[0m\u001b[1;33m(\u001b[0m\u001b[0msamples\u001b[0m\u001b[1;33m,\u001b[0m \u001b[0mcollate_fn_map\u001b[0m\u001b[1;33m=\u001b[0m\u001b[0mcollate_fn_map\u001b[0m\u001b[1;33m)\u001b[0m \u001b[1;32mfor\u001b[0m \u001b[0msamples\u001b[0m \u001b[1;32min\u001b[0m \u001b[0mtransposed\u001b[0m\u001b[1;33m]\u001b[0m  \u001b[1;31m# Backwards compatibility.\u001b[0m\u001b[1;33m\u001b[0m\u001b[1;33m\u001b[0m\u001b[0m\n\u001b[0m\u001b[0;32m    143\u001b[0m         \u001b[1;32melse\u001b[0m\u001b[1;33m:\u001b[0m\u001b[1;33m\u001b[0m\u001b[1;33m\u001b[0m\u001b[0m\n\u001b[0;32m    144\u001b[0m             \u001b[1;32mtry\u001b[0m\u001b[1;33m:\u001b[0m\u001b[1;33m\u001b[0m\u001b[1;33m\u001b[0m\u001b[0m\n",
      "\u001b[1;32mD:\\chorme\\anaconda\\lib\\site-packages\\torch\\utils\\data\\_utils\\collate.py\u001b[0m in \u001b[0;36m<listcomp>\u001b[1;34m(.0)\u001b[0m\n\u001b[0;32m    140\u001b[0m \u001b[1;33m\u001b[0m\u001b[0m\n\u001b[0;32m    141\u001b[0m         \u001b[1;32mif\u001b[0m \u001b[0misinstance\u001b[0m\u001b[1;33m(\u001b[0m\u001b[0melem\u001b[0m\u001b[1;33m,\u001b[0m \u001b[0mtuple\u001b[0m\u001b[1;33m)\u001b[0m\u001b[1;33m:\u001b[0m\u001b[1;33m\u001b[0m\u001b[1;33m\u001b[0m\u001b[0m\n\u001b[1;32m--> 142\u001b[1;33m             \u001b[1;32mreturn\u001b[0m \u001b[1;33m[\u001b[0m\u001b[0mcollate\u001b[0m\u001b[1;33m(\u001b[0m\u001b[0msamples\u001b[0m\u001b[1;33m,\u001b[0m \u001b[0mcollate_fn_map\u001b[0m\u001b[1;33m=\u001b[0m\u001b[0mcollate_fn_map\u001b[0m\u001b[1;33m)\u001b[0m \u001b[1;32mfor\u001b[0m \u001b[0msamples\u001b[0m \u001b[1;32min\u001b[0m \u001b[0mtransposed\u001b[0m\u001b[1;33m]\u001b[0m  \u001b[1;31m# Backwards compatibility.\u001b[0m\u001b[1;33m\u001b[0m\u001b[1;33m\u001b[0m\u001b[0m\n\u001b[0m\u001b[0;32m    143\u001b[0m         \u001b[1;32melse\u001b[0m\u001b[1;33m:\u001b[0m\u001b[1;33m\u001b[0m\u001b[1;33m\u001b[0m\u001b[0m\n\u001b[0;32m    144\u001b[0m             \u001b[1;32mtry\u001b[0m\u001b[1;33m:\u001b[0m\u001b[1;33m\u001b[0m\u001b[1;33m\u001b[0m\u001b[0m\n",
      "\u001b[1;32mD:\\chorme\\anaconda\\lib\\site-packages\\torch\\utils\\data\\_utils\\collate.py\u001b[0m in \u001b[0;36mcollate\u001b[1;34m(batch, collate_fn_map)\u001b[0m\n\u001b[0;32m    117\u001b[0m     \u001b[1;32mif\u001b[0m \u001b[0mcollate_fn_map\u001b[0m \u001b[1;32mis\u001b[0m \u001b[1;32mnot\u001b[0m \u001b[1;32mNone\u001b[0m\u001b[1;33m:\u001b[0m\u001b[1;33m\u001b[0m\u001b[1;33m\u001b[0m\u001b[0m\n\u001b[0;32m    118\u001b[0m         \u001b[1;32mif\u001b[0m \u001b[0melem_type\u001b[0m \u001b[1;32min\u001b[0m \u001b[0mcollate_fn_map\u001b[0m\u001b[1;33m:\u001b[0m\u001b[1;33m\u001b[0m\u001b[1;33m\u001b[0m\u001b[0m\n\u001b[1;32m--> 119\u001b[1;33m             \u001b[1;32mreturn\u001b[0m \u001b[0mcollate_fn_map\u001b[0m\u001b[1;33m[\u001b[0m\u001b[0melem_type\u001b[0m\u001b[1;33m]\u001b[0m\u001b[1;33m(\u001b[0m\u001b[0mbatch\u001b[0m\u001b[1;33m,\u001b[0m \u001b[0mcollate_fn_map\u001b[0m\u001b[1;33m=\u001b[0m\u001b[0mcollate_fn_map\u001b[0m\u001b[1;33m)\u001b[0m\u001b[1;33m\u001b[0m\u001b[1;33m\u001b[0m\u001b[0m\n\u001b[0m\u001b[0;32m    120\u001b[0m \u001b[1;33m\u001b[0m\u001b[0m\n\u001b[0;32m    121\u001b[0m         \u001b[1;32mfor\u001b[0m \u001b[0mcollate_type\u001b[0m \u001b[1;32min\u001b[0m \u001b[0mcollate_fn_map\u001b[0m\u001b[1;33m:\u001b[0m\u001b[1;33m\u001b[0m\u001b[1;33m\u001b[0m\u001b[0m\n",
      "\u001b[1;32mD:\\chorme\\anaconda\\lib\\site-packages\\torch\\utils\\data\\_utils\\collate.py\u001b[0m in \u001b[0;36mcollate_numpy_array_fn\u001b[1;34m(batch, collate_fn_map)\u001b[0m\n\u001b[0;32m    169\u001b[0m         \u001b[1;32mraise\u001b[0m \u001b[0mTypeError\u001b[0m\u001b[1;33m(\u001b[0m\u001b[0mdefault_collate_err_msg_format\u001b[0m\u001b[1;33m.\u001b[0m\u001b[0mformat\u001b[0m\u001b[1;33m(\u001b[0m\u001b[0melem\u001b[0m\u001b[1;33m.\u001b[0m\u001b[0mdtype\u001b[0m\u001b[1;33m)\u001b[0m\u001b[1;33m)\u001b[0m\u001b[1;33m\u001b[0m\u001b[1;33m\u001b[0m\u001b[0m\n\u001b[0;32m    170\u001b[0m \u001b[1;33m\u001b[0m\u001b[0m\n\u001b[1;32m--> 171\u001b[1;33m     \u001b[1;32mreturn\u001b[0m \u001b[0mcollate\u001b[0m\u001b[1;33m(\u001b[0m\u001b[1;33m[\u001b[0m\u001b[0mtorch\u001b[0m\u001b[1;33m.\u001b[0m\u001b[0mas_tensor\u001b[0m\u001b[1;33m(\u001b[0m\u001b[0mb\u001b[0m\u001b[1;33m)\u001b[0m \u001b[1;32mfor\u001b[0m \u001b[0mb\u001b[0m \u001b[1;32min\u001b[0m \u001b[0mbatch\u001b[0m\u001b[1;33m]\u001b[0m\u001b[1;33m,\u001b[0m \u001b[0mcollate_fn_map\u001b[0m\u001b[1;33m=\u001b[0m\u001b[0mcollate_fn_map\u001b[0m\u001b[1;33m)\u001b[0m\u001b[1;33m\u001b[0m\u001b[1;33m\u001b[0m\u001b[0m\n\u001b[0m\u001b[0;32m    172\u001b[0m \u001b[1;33m\u001b[0m\u001b[0m\n\u001b[0;32m    173\u001b[0m \u001b[1;33m\u001b[0m\u001b[0m\n",
      "\u001b[1;32mD:\\chorme\\anaconda\\lib\\site-packages\\torch\\utils\\data\\_utils\\collate.py\u001b[0m in \u001b[0;36mcollate\u001b[1;34m(batch, collate_fn_map)\u001b[0m\n\u001b[0;32m    117\u001b[0m     \u001b[1;32mif\u001b[0m \u001b[0mcollate_fn_map\u001b[0m \u001b[1;32mis\u001b[0m \u001b[1;32mnot\u001b[0m \u001b[1;32mNone\u001b[0m\u001b[1;33m:\u001b[0m\u001b[1;33m\u001b[0m\u001b[1;33m\u001b[0m\u001b[0m\n\u001b[0;32m    118\u001b[0m         \u001b[1;32mif\u001b[0m \u001b[0melem_type\u001b[0m \u001b[1;32min\u001b[0m \u001b[0mcollate_fn_map\u001b[0m\u001b[1;33m:\u001b[0m\u001b[1;33m\u001b[0m\u001b[1;33m\u001b[0m\u001b[0m\n\u001b[1;32m--> 119\u001b[1;33m             \u001b[1;32mreturn\u001b[0m \u001b[0mcollate_fn_map\u001b[0m\u001b[1;33m[\u001b[0m\u001b[0melem_type\u001b[0m\u001b[1;33m]\u001b[0m\u001b[1;33m(\u001b[0m\u001b[0mbatch\u001b[0m\u001b[1;33m,\u001b[0m \u001b[0mcollate_fn_map\u001b[0m\u001b[1;33m=\u001b[0m\u001b[0mcollate_fn_map\u001b[0m\u001b[1;33m)\u001b[0m\u001b[1;33m\u001b[0m\u001b[1;33m\u001b[0m\u001b[0m\n\u001b[0m\u001b[0;32m    120\u001b[0m \u001b[1;33m\u001b[0m\u001b[0m\n\u001b[0;32m    121\u001b[0m         \u001b[1;32mfor\u001b[0m \u001b[0mcollate_type\u001b[0m \u001b[1;32min\u001b[0m \u001b[0mcollate_fn_map\u001b[0m\u001b[1;33m:\u001b[0m\u001b[1;33m\u001b[0m\u001b[1;33m\u001b[0m\u001b[0m\n",
      "\u001b[1;32mD:\\chorme\\anaconda\\lib\\site-packages\\torch\\utils\\data\\_utils\\collate.py\u001b[0m in \u001b[0;36mcollate_tensor_fn\u001b[1;34m(batch, collate_fn_map)\u001b[0m\n\u001b[0;32m    160\u001b[0m         \u001b[0mstorage\u001b[0m \u001b[1;33m=\u001b[0m \u001b[0melem\u001b[0m\u001b[1;33m.\u001b[0m\u001b[0m_typed_storage\u001b[0m\u001b[1;33m(\u001b[0m\u001b[1;33m)\u001b[0m\u001b[1;33m.\u001b[0m\u001b[0m_new_shared\u001b[0m\u001b[1;33m(\u001b[0m\u001b[0mnumel\u001b[0m\u001b[1;33m,\u001b[0m \u001b[0mdevice\u001b[0m\u001b[1;33m=\u001b[0m\u001b[0melem\u001b[0m\u001b[1;33m.\u001b[0m\u001b[0mdevice\u001b[0m\u001b[1;33m)\u001b[0m\u001b[1;33m\u001b[0m\u001b[1;33m\u001b[0m\u001b[0m\n\u001b[0;32m    161\u001b[0m         \u001b[0mout\u001b[0m \u001b[1;33m=\u001b[0m \u001b[0melem\u001b[0m\u001b[1;33m.\u001b[0m\u001b[0mnew\u001b[0m\u001b[1;33m(\u001b[0m\u001b[0mstorage\u001b[0m\u001b[1;33m)\u001b[0m\u001b[1;33m.\u001b[0m\u001b[0mresize_\u001b[0m\u001b[1;33m(\u001b[0m\u001b[0mlen\u001b[0m\u001b[1;33m(\u001b[0m\u001b[0mbatch\u001b[0m\u001b[1;33m)\u001b[0m\u001b[1;33m,\u001b[0m \u001b[1;33m*\u001b[0m\u001b[0mlist\u001b[0m\u001b[1;33m(\u001b[0m\u001b[0melem\u001b[0m\u001b[1;33m.\u001b[0m\u001b[0msize\u001b[0m\u001b[1;33m(\u001b[0m\u001b[1;33m)\u001b[0m\u001b[1;33m)\u001b[0m\u001b[1;33m)\u001b[0m\u001b[1;33m\u001b[0m\u001b[1;33m\u001b[0m\u001b[0m\n\u001b[1;32m--> 162\u001b[1;33m     \u001b[1;32mreturn\u001b[0m \u001b[0mtorch\u001b[0m\u001b[1;33m.\u001b[0m\u001b[0mstack\u001b[0m\u001b[1;33m(\u001b[0m\u001b[0mbatch\u001b[0m\u001b[1;33m,\u001b[0m \u001b[1;36m0\u001b[0m\u001b[1;33m,\u001b[0m \u001b[0mout\u001b[0m\u001b[1;33m=\u001b[0m\u001b[0mout\u001b[0m\u001b[1;33m)\u001b[0m\u001b[1;33m\u001b[0m\u001b[1;33m\u001b[0m\u001b[0m\n\u001b[0m\u001b[0;32m    163\u001b[0m \u001b[1;33m\u001b[0m\u001b[0m\n\u001b[0;32m    164\u001b[0m \u001b[1;33m\u001b[0m\u001b[0m\n",
      "\u001b[1;31mKeyboardInterrupt\u001b[0m: "
     ]
    }
   ],
   "source": [
    "determine_seed()\n",
    "model = GRUmodel(input_size=22, hidden_size=16, num_layers=1, output_size=3)\n",
    "device = torch.device(\"cuda\" if torch.cuda.is_available() else \"cpu\")\n",
    "# device = \"cpu\"\n",
    "model.to(device)\n",
    "optimizer = torch.optim.Adam(model.parameters(), lr=0.001)\n",
    "criterion = nn.CrossEntropyLoss()\n",
    "\n",
    "train_losses = []\n",
    "train_accs = []\n",
    "val_losses = []\n",
    "val_accs = []\n",
    "\n",
    "num_epochs = 100\n",
    "accumulation_steps = 8\n",
    "alpha = 1\n",
    "for epoch in range(num_epochs):\n",
    "    model.train()\n",
    "    train_loss = 0.0\n",
    "    train_correct = 0.0\n",
    "    train_total = 0.0\n",
    "    for i, (X, y) in enumerate(tqdm(train_dl)):\n",
    "        if (i + 1) % 100 != 0:\n",
    "            continue\n",
    "        X, y = X[0].to(torch.float32).to(\n",
    "            device), y[0].to(torch.int64).to(device)\n",
    "\n",
    "        outputs = model(X)\n",
    "        y_oh = torch.nn.functional.one_hot(y, num_classes=3).to(torch.float32)\n",
    "        y_oh[:, [0, 2]] *= alpha\n",
    "        loss = criterion(outputs, y_oh)\n",
    "        loss.backward()\n",
    "        # if (i + 1) % accumulation_steps == 0:\n",
    "        optimizer.step()\n",
    "        optimizer.zero_grad()\n",
    "\n",
    "        with torch.no_grad():\n",
    "            _, predicted = torch.max(outputs.data, 1)\n",
    "            train_correct += (predicted == y).sum().item()\n",
    "            train_total += y.size(0)\n",
    "            train_loss += loss.item()\n",
    "\n",
    "    train_loss /= len(train_ds)\n",
    "    train_losses.append(train_loss)\n",
    "    train_acc = train_correct / train_total\n",
    "    train_accs.append(train_acc)\n",
    "\n",
    "    model.eval()\n",
    "    val_loss = 0.0\n",
    "    val_correct = 0.0\n",
    "    val_total = 0.0\n",
    "    with torch.no_grad():\n",
    "        for i, (X, y) in enumerate(tqdm(val_dl)):\n",
    "            if (i + 1) % 100 != 0:\n",
    "                continue\n",
    "            X, y = X[0].to(torch.float32).to(\n",
    "                device), y[0].to(torch.int64).to(device)\n",
    "\n",
    "            outputs = model(X)\n",
    "            y_oh = torch.nn.functional.one_hot(\n",
    "                y, num_classes=3).to(torch.float32)\n",
    "            y_oh[:, [0, 2]] *= alpha\n",
    "            loss = criterion(outputs, y_oh)\n",
    "\n",
    "            _, predicted = torch.max(outputs.data, 1)\n",
    "            val_correct += (predicted == y).sum().item()\n",
    "            val_total += y.size(0)\n",
    "            val_loss += loss.item()\n",
    "\n",
    "    val_loss /= len(val_ds)\n",
    "    val_losses.append(val_loss)\n",
    "    val_acc = val_correct / val_total\n",
    "    val_accs.append(val_acc)\n",
    "\n",
    "    print(train_acc, train_loss, val_acc, val_loss)\n",
    "\n",
    "#     if epoch == num_epochs - 1:\n",
    "#         model.eval()\n",
    "#         with torch.no_grad():\n",
    "#             for date in tqdm(range(48,64)):\n",
    "#                 daily_X, daily_y = gen_ts(stock_ids, date)\n",
    "#                 predicted_value_today = []\n",
    "#                 for second in list(range(3998)):\n",
    "#                     X, y = daily_X[:, max(0, second+1-100):(second+1), :], daily_y[:, second]\n",
    "#                     X = torch.from_numpy(X.astype(np.float32)).to(device)\n",
    "#                     y = torch.from_numpy(y.astype(np.int64)).to(device)\n",
    "\n",
    "#                     outputs = model(X)\n",
    "#                     _, predicted = torch.max(outputs.data, 1)\n",
    "#                     predicted_value_today.append(predicted.cpu().numpy())\n",
    "#                 pd.DataFrame(predicted_value_today).to_csv(\"D:/jupyter/aft_lstm_predicted/date{}.csv\".format(date))"
   ]
  },
  {
   "cell_type": "code",
   "execution_count": 1,
   "id": "9177db3b",
   "metadata": {},
   "outputs": [
    {
     "ename": "NameError",
     "evalue": "name 'train_losses' is not defined",
     "output_type": "error",
     "traceback": [
      "\u001b[1;31m---------------------------------------------------------------------------\u001b[0m",
      "\u001b[1;31mNameError\u001b[0m                                 Traceback (most recent call last)",
      "\u001b[1;32m<ipython-input-1-10e2cb1ae0c5>\u001b[0m in \u001b[0;36m<module>\u001b[1;34m\u001b[0m\n\u001b[1;32m----> 1\u001b[1;33m \u001b[0mtrain_losses\u001b[0m\u001b[1;33m\u001b[0m\u001b[1;33m\u001b[0m\u001b[0m\n\u001b[0m",
      "\u001b[1;31mNameError\u001b[0m: name 'train_losses' is not defined"
     ]
    }
   ],
   "source": [
    "train_losses"
   ]
  },
  {
   "cell_type": "code",
   "execution_count": 14,
   "id": "57c1ae1b",
   "metadata": {},
   "outputs": [],
   "source": [
    "predicted_value_today = []\n",
    "predicted_value_today.append(predicted.cpu().numpy())\n",
    "predicted_value_today.append(predicted.cpu().numpy())"
   ]
  },
  {
   "cell_type": "code",
   "execution_count": 16,
   "id": "c01b3777",
   "metadata": {},
   "outputs": [],
   "source": [
    "pd.DataFrame(predicted_value_today).to_csv(\n",
    "    \"D:/jupyter/aft_lstm_predicted/date{}.csv\".format(date))"
   ]
  },
  {
   "cell_type": "code",
   "execution_count": null,
   "id": "b918b74a",
   "metadata": {
    "scrolled": true
   },
   "outputs": [],
   "source": [
    "plt.plot(train_accs)\n",
    "plt.plot(val_accs)\n",
    "plt.plot(train_losses)\n",
    "plt.plot(val_accs)"
   ]
  },
  {
   "cell_type": "code",
   "execution_count": 23,
   "id": "00e86a97",
   "metadata": {},
   "outputs": [
    {
     "name": "stderr",
     "output_type": "stream",
     "text": [
      "100%|██████████| 16/16 [01:10<00:00,  4.42s/it]\n"
     ]
    }
   ],
   "source": [
    "model.eval()\n",
    "with torch.no_grad():\n",
    "    for date in tqdm(range(48, 64)):\n",
    "        daily_X, daily_y = gen_ts(stock_ids, date)\n",
    "        predicted_value_today = []\n",
    "        for second in list(range(3998)):\n",
    "            X, y = daily_X[:, max(0, second+1-100)                           :(second+1), :], daily_y[:, second]\n",
    "            X = torch.from_numpy(X.astype(np.float32)).to(device)\n",
    "            y = torch.from_numpy(y.astype(np.int64)).to(device)\n",
    "\n",
    "            outputs = model(X)\n",
    "            _, predicted = torch.max(outputs.data, 1)\n",
    "            predicted_value_today.append(predicted.cpu().numpy())\n",
    "        pd.DataFrame(predicted_value_today).to_csv(\n",
    "            \"D:/jupyter/aft_lstm_predicted/date{}.csv\".format(date))"
   ]
  },
  {
   "cell_type": "code",
   "execution_count": 21,
   "id": "708013fe",
   "metadata": {
    "scrolled": true
   },
   "outputs": [
    {
     "data": {
      "text/html": [
       "<div>\n",
       "<style scoped>\n",
       "    .dataframe tbody tr th:only-of-type {\n",
       "        vertical-align: middle;\n",
       "    }\n",
       "\n",
       "    .dataframe tbody tr th {\n",
       "        vertical-align: top;\n",
       "    }\n",
       "\n",
       "    .dataframe thead th {\n",
       "        text-align: right;\n",
       "    }\n",
       "</style>\n",
       "<table border=\"1\" class=\"dataframe\">\n",
       "  <thead>\n",
       "    <tr style=\"text-align: right;\">\n",
       "      <th></th>\n",
       "      <th>0</th>\n",
       "      <th>1</th>\n",
       "      <th>2</th>\n",
       "      <th>3</th>\n",
       "      <th>4</th>\n",
       "      <th>5</th>\n",
       "      <th>6</th>\n",
       "      <th>7</th>\n",
       "      <th>8</th>\n",
       "      <th>9</th>\n",
       "    </tr>\n",
       "  </thead>\n",
       "  <tbody>\n",
       "    <tr>\n",
       "      <th>0</th>\n",
       "      <td>1</td>\n",
       "      <td>1</td>\n",
       "      <td>1</td>\n",
       "      <td>1</td>\n",
       "      <td>1</td>\n",
       "      <td>1</td>\n",
       "      <td>1</td>\n",
       "      <td>1</td>\n",
       "      <td>1</td>\n",
       "      <td>1</td>\n",
       "    </tr>\n",
       "    <tr>\n",
       "      <th>1</th>\n",
       "      <td>1</td>\n",
       "      <td>1</td>\n",
       "      <td>1</td>\n",
       "      <td>1</td>\n",
       "      <td>1</td>\n",
       "      <td>0</td>\n",
       "      <td>1</td>\n",
       "      <td>1</td>\n",
       "      <td>1</td>\n",
       "      <td>1</td>\n",
       "    </tr>\n",
       "    <tr>\n",
       "      <th>2</th>\n",
       "      <td>1</td>\n",
       "      <td>1</td>\n",
       "      <td>1</td>\n",
       "      <td>1</td>\n",
       "      <td>1</td>\n",
       "      <td>0</td>\n",
       "      <td>1</td>\n",
       "      <td>1</td>\n",
       "      <td>1</td>\n",
       "      <td>1</td>\n",
       "    </tr>\n",
       "    <tr>\n",
       "      <th>3</th>\n",
       "      <td>1</td>\n",
       "      <td>1</td>\n",
       "      <td>1</td>\n",
       "      <td>1</td>\n",
       "      <td>1</td>\n",
       "      <td>0</td>\n",
       "      <td>1</td>\n",
       "      <td>1</td>\n",
       "      <td>0</td>\n",
       "      <td>1</td>\n",
       "    </tr>\n",
       "    <tr>\n",
       "      <th>4</th>\n",
       "      <td>1</td>\n",
       "      <td>1</td>\n",
       "      <td>1</td>\n",
       "      <td>1</td>\n",
       "      <td>1</td>\n",
       "      <td>0</td>\n",
       "      <td>1</td>\n",
       "      <td>1</td>\n",
       "      <td>1</td>\n",
       "      <td>1</td>\n",
       "    </tr>\n",
       "    <tr>\n",
       "      <th>...</th>\n",
       "      <td>...</td>\n",
       "      <td>...</td>\n",
       "      <td>...</td>\n",
       "      <td>...</td>\n",
       "      <td>...</td>\n",
       "      <td>...</td>\n",
       "      <td>...</td>\n",
       "      <td>...</td>\n",
       "      <td>...</td>\n",
       "      <td>...</td>\n",
       "    </tr>\n",
       "    <tr>\n",
       "      <th>3993</th>\n",
       "      <td>1</td>\n",
       "      <td>1</td>\n",
       "      <td>1</td>\n",
       "      <td>1</td>\n",
       "      <td>1</td>\n",
       "      <td>1</td>\n",
       "      <td>1</td>\n",
       "      <td>1</td>\n",
       "      <td>1</td>\n",
       "      <td>1</td>\n",
       "    </tr>\n",
       "    <tr>\n",
       "      <th>3994</th>\n",
       "      <td>1</td>\n",
       "      <td>1</td>\n",
       "      <td>1</td>\n",
       "      <td>1</td>\n",
       "      <td>1</td>\n",
       "      <td>1</td>\n",
       "      <td>1</td>\n",
       "      <td>1</td>\n",
       "      <td>1</td>\n",
       "      <td>1</td>\n",
       "    </tr>\n",
       "    <tr>\n",
       "      <th>3995</th>\n",
       "      <td>1</td>\n",
       "      <td>1</td>\n",
       "      <td>1</td>\n",
       "      <td>1</td>\n",
       "      <td>1</td>\n",
       "      <td>1</td>\n",
       "      <td>1</td>\n",
       "      <td>1</td>\n",
       "      <td>1</td>\n",
       "      <td>1</td>\n",
       "    </tr>\n",
       "    <tr>\n",
       "      <th>3996</th>\n",
       "      <td>1</td>\n",
       "      <td>1</td>\n",
       "      <td>1</td>\n",
       "      <td>1</td>\n",
       "      <td>1</td>\n",
       "      <td>2</td>\n",
       "      <td>1</td>\n",
       "      <td>1</td>\n",
       "      <td>1</td>\n",
       "      <td>1</td>\n",
       "    </tr>\n",
       "    <tr>\n",
       "      <th>3997</th>\n",
       "      <td>1</td>\n",
       "      <td>1</td>\n",
       "      <td>1</td>\n",
       "      <td>1</td>\n",
       "      <td>1</td>\n",
       "      <td>1</td>\n",
       "      <td>1</td>\n",
       "      <td>1</td>\n",
       "      <td>1</td>\n",
       "      <td>1</td>\n",
       "    </tr>\n",
       "  </tbody>\n",
       "</table>\n",
       "<p>3998 rows × 10 columns</p>\n",
       "</div>"
      ],
      "text/plain": [
       "      0  1  2  3  4  5  6  7  8  9\n",
       "0     1  1  1  1  1  1  1  1  1  1\n",
       "1     1  1  1  1  1  0  1  1  1  1\n",
       "2     1  1  1  1  1  0  1  1  1  1\n",
       "3     1  1  1  1  1  0  1  1  0  1\n",
       "4     1  1  1  1  1  0  1  1  1  1\n",
       "...  .. .. .. .. .. .. .. .. .. ..\n",
       "3993  1  1  1  1  1  1  1  1  1  1\n",
       "3994  1  1  1  1  1  1  1  1  1  1\n",
       "3995  1  1  1  1  1  1  1  1  1  1\n",
       "3996  1  1  1  1  1  2  1  1  1  1\n",
       "3997  1  1  1  1  1  1  1  1  1  1\n",
       "\n",
       "[3998 rows x 10 columns]"
      ]
     },
     "execution_count": 21,
     "metadata": {},
     "output_type": "execute_result"
    }
   ],
   "source": [
    "pd.DataFrame(predicted_value_today)"
   ]
  },
  {
   "cell_type": "code",
   "execution_count": 44,
   "id": "ebb3c640",
   "metadata": {},
   "outputs": [],
   "source": [
    "y_true = np.array([])\n",
    "y_pred = np.array([])\n",
    "for date in range(48, 64):\n",
    "    yhat = pd.read_csv(\n",
    "        \"D:/jupyter/aft_lstm_predicted/date{}.csv\".format(date), index_col=0)\n",
    "    _, daily_y = gen_ts(stock_ids, date)\n",
    "    y = daily_y.T\n",
    "    yhat = np.array(yhat)\n",
    "    y_true = np.append(y_true, y.reshape(-1))\n",
    "    y_pred = np.append(y_pred, yhat.reshape(-1))"
   ]
  },
  {
   "cell_type": "code",
   "execution_count": 46,
   "id": "20d71281",
   "metadata": {},
   "outputs": [
    {
     "data": {
      "text/plain": [
       "0.33371707990182164"
      ]
     },
     "execution_count": 46,
     "metadata": {},
     "output_type": "execute_result"
    }
   ],
   "source": [
    "from sklearn.metrics import f1_score\n",
    "f1 = f1_score(y_true, y_pred, average='macro')\n",
    "f1"
   ]
  },
  {
   "cell_type": "code",
   "execution_count": 48,
   "id": "f1d53d5e",
   "metadata": {},
   "outputs": [
    {
     "data": {
      "text/plain": [
       "0.6092094434313932"
      ]
     },
     "execution_count": 48,
     "metadata": {},
     "output_type": "execute_result"
    }
   ],
   "source": [
    "(y_true == y_pred).mean()"
   ]
  },
  {
   "cell_type": "code",
   "execution_count": 32,
   "id": "11a35c15",
   "metadata": {},
   "outputs": [],
   "source": [
    "date = 48\n",
    "yhat = pd.read_csv(\n",
    "    \"D:/jupyter/aft_lstm_predicted/date{}.csv\".format(date), index_col=0)\n",
    "_, daily_y = gen_ts(stock_ids, date)\n",
    "y = daily_y.T"
   ]
  },
  {
   "cell_type": "code",
   "execution_count": 43,
   "id": "396fa311",
   "metadata": {},
   "outputs": [
    {
     "data": {
      "text/plain": [
       "array([1., 1., 1., ..., 2., 0., 1.])"
      ]
     },
     "execution_count": 43,
     "metadata": {},
     "output_type": "execute_result"
    }
   ],
   "source": [
    "np.append(np.array([]), y.reshape(-1))"
   ]
  },
  {
   "cell_type": "code",
   "execution_count": 36,
   "id": "9e4dd0ae",
   "metadata": {},
   "outputs": [
    {
     "data": {
      "text/plain": [
       "(3998, 10)"
      ]
     },
     "execution_count": 36,
     "metadata": {},
     "output_type": "execute_result"
    }
   ],
   "source": [
    "y.shape"
   ]
  },
  {
   "cell_type": "code",
   "execution_count": 25,
   "id": "9fc7713e",
   "metadata": {},
   "outputs": [
    {
     "data": {
      "text/html": [
       "<div>\n",
       "<style scoped>\n",
       "    .dataframe tbody tr th:only-of-type {\n",
       "        vertical-align: middle;\n",
       "    }\n",
       "\n",
       "    .dataframe tbody tr th {\n",
       "        vertical-align: top;\n",
       "    }\n",
       "\n",
       "    .dataframe thead th {\n",
       "        text-align: right;\n",
       "    }\n",
       "</style>\n",
       "<table border=\"1\" class=\"dataframe\">\n",
       "  <thead>\n",
       "    <tr style=\"text-align: right;\">\n",
       "      <th></th>\n",
       "      <th>0</th>\n",
       "      <th>1</th>\n",
       "      <th>2</th>\n",
       "      <th>3</th>\n",
       "      <th>4</th>\n",
       "      <th>5</th>\n",
       "      <th>6</th>\n",
       "      <th>7</th>\n",
       "      <th>8</th>\n",
       "      <th>9</th>\n",
       "    </tr>\n",
       "  </thead>\n",
       "  <tbody>\n",
       "    <tr>\n",
       "      <th>0</th>\n",
       "      <td>1</td>\n",
       "      <td>1</td>\n",
       "      <td>1</td>\n",
       "      <td>0</td>\n",
       "      <td>1</td>\n",
       "      <td>0</td>\n",
       "      <td>1</td>\n",
       "      <td>1</td>\n",
       "      <td>1</td>\n",
       "      <td>1</td>\n",
       "    </tr>\n",
       "    <tr>\n",
       "      <th>1</th>\n",
       "      <td>1</td>\n",
       "      <td>1</td>\n",
       "      <td>1</td>\n",
       "      <td>1</td>\n",
       "      <td>1</td>\n",
       "      <td>1</td>\n",
       "      <td>1</td>\n",
       "      <td>1</td>\n",
       "      <td>1</td>\n",
       "      <td>1</td>\n",
       "    </tr>\n",
       "    <tr>\n",
       "      <th>2</th>\n",
       "      <td>1</td>\n",
       "      <td>1</td>\n",
       "      <td>1</td>\n",
       "      <td>1</td>\n",
       "      <td>1</td>\n",
       "      <td>1</td>\n",
       "      <td>1</td>\n",
       "      <td>1</td>\n",
       "      <td>1</td>\n",
       "      <td>1</td>\n",
       "    </tr>\n",
       "    <tr>\n",
       "      <th>3</th>\n",
       "      <td>1</td>\n",
       "      <td>1</td>\n",
       "      <td>1</td>\n",
       "      <td>1</td>\n",
       "      <td>1</td>\n",
       "      <td>1</td>\n",
       "      <td>1</td>\n",
       "      <td>1</td>\n",
       "      <td>1</td>\n",
       "      <td>1</td>\n",
       "    </tr>\n",
       "    <tr>\n",
       "      <th>4</th>\n",
       "      <td>1</td>\n",
       "      <td>1</td>\n",
       "      <td>1</td>\n",
       "      <td>1</td>\n",
       "      <td>1</td>\n",
       "      <td>1</td>\n",
       "      <td>1</td>\n",
       "      <td>1</td>\n",
       "      <td>1</td>\n",
       "      <td>1</td>\n",
       "    </tr>\n",
       "    <tr>\n",
       "      <th>...</th>\n",
       "      <td>...</td>\n",
       "      <td>...</td>\n",
       "      <td>...</td>\n",
       "      <td>...</td>\n",
       "      <td>...</td>\n",
       "      <td>...</td>\n",
       "      <td>...</td>\n",
       "      <td>...</td>\n",
       "      <td>...</td>\n",
       "      <td>...</td>\n",
       "    </tr>\n",
       "    <tr>\n",
       "      <th>3993</th>\n",
       "      <td>1</td>\n",
       "      <td>1</td>\n",
       "      <td>1</td>\n",
       "      <td>1</td>\n",
       "      <td>1</td>\n",
       "      <td>1</td>\n",
       "      <td>1</td>\n",
       "      <td>0</td>\n",
       "      <td>1</td>\n",
       "      <td>1</td>\n",
       "    </tr>\n",
       "    <tr>\n",
       "      <th>3994</th>\n",
       "      <td>1</td>\n",
       "      <td>1</td>\n",
       "      <td>1</td>\n",
       "      <td>1</td>\n",
       "      <td>1</td>\n",
       "      <td>1</td>\n",
       "      <td>1</td>\n",
       "      <td>0</td>\n",
       "      <td>1</td>\n",
       "      <td>1</td>\n",
       "    </tr>\n",
       "    <tr>\n",
       "      <th>3995</th>\n",
       "      <td>1</td>\n",
       "      <td>1</td>\n",
       "      <td>1</td>\n",
       "      <td>1</td>\n",
       "      <td>1</td>\n",
       "      <td>1</td>\n",
       "      <td>1</td>\n",
       "      <td>0</td>\n",
       "      <td>1</td>\n",
       "      <td>1</td>\n",
       "    </tr>\n",
       "    <tr>\n",
       "      <th>3996</th>\n",
       "      <td>1</td>\n",
       "      <td>1</td>\n",
       "      <td>1</td>\n",
       "      <td>1</td>\n",
       "      <td>1</td>\n",
       "      <td>1</td>\n",
       "      <td>1</td>\n",
       "      <td>0</td>\n",
       "      <td>1</td>\n",
       "      <td>1</td>\n",
       "    </tr>\n",
       "    <tr>\n",
       "      <th>3997</th>\n",
       "      <td>1</td>\n",
       "      <td>1</td>\n",
       "      <td>1</td>\n",
       "      <td>1</td>\n",
       "      <td>1</td>\n",
       "      <td>1</td>\n",
       "      <td>1</td>\n",
       "      <td>0</td>\n",
       "      <td>1</td>\n",
       "      <td>1</td>\n",
       "    </tr>\n",
       "  </tbody>\n",
       "</table>\n",
       "<p>3998 rows × 10 columns</p>\n",
       "</div>"
      ],
      "text/plain": [
       "      0  1  2  3  4  5  6  7  8  9\n",
       "0     1  1  1  0  1  0  1  1  1  1\n",
       "1     1  1  1  1  1  1  1  1  1  1\n",
       "2     1  1  1  1  1  1  1  1  1  1\n",
       "3     1  1  1  1  1  1  1  1  1  1\n",
       "4     1  1  1  1  1  1  1  1  1  1\n",
       "...  .. .. .. .. .. .. .. .. .. ..\n",
       "3993  1  1  1  1  1  1  1  0  1  1\n",
       "3994  1  1  1  1  1  1  1  0  1  1\n",
       "3995  1  1  1  1  1  1  1  0  1  1\n",
       "3996  1  1  1  1  1  1  1  0  1  1\n",
       "3997  1  1  1  1  1  1  1  0  1  1\n",
       "\n",
       "[3998 rows x 10 columns]"
      ]
     },
     "execution_count": 25,
     "metadata": {},
     "output_type": "execute_result"
    }
   ],
   "source": [
    "pd.read_csv(\"D:/jupyter/aft_lstm_predicted/date{}.csv\".format(date), index_col=0)"
   ]
  },
  {
   "cell_type": "code",
   "execution_count": 55,
   "id": "2a42c699",
   "metadata": {},
   "outputs": [
    {
     "data": {
      "text/plain": [
       "[48, 49, 50, 51, 52, 53, 54, 55, 56, 57, 58, 59, 60, 61, 62, 63]"
      ]
     },
     "execution_count": 55,
     "metadata": {},
     "output_type": "execute_result"
    }
   ],
   "source": [
    "list(range(48, 64))"
   ]
  },
  {
   "cell_type": "code",
   "execution_count": 7,
   "id": "f0bb0188",
   "metadata": {},
   "outputs": [
    {
     "data": {
      "text/plain": [
       "tensor([[-0.4212],\n",
       "        [-0.4230],\n",
       "        [ 0.6397],\n",
       "        [ 0.1246],\n",
       "        [-0.4212],\n",
       "        [-0.4212],\n",
       "        [ 0.6383],\n",
       "        [-0.4212]], grad_fn=<AddmmBackward0>)"
      ]
     },
     "execution_count": 7,
     "metadata": {},
     "output_type": "execute_result"
    }
   ],
   "source": [
    "X = gen_ts(stock_ids, date_id, time)\n",
    "X = torch.from_numpy(X.astype(np.float32)).to(device)\n",
    "model(X)"
   ]
  },
  {
   "cell_type": "code",
   "execution_count": 53,
   "id": "3ebb3c47",
   "metadata": {},
   "outputs": [
    {
     "data": {
      "text/plain": [
       "tensor([[1.],\n",
       "        [1.],\n",
       "        [1.],\n",
       "        [1.],\n",
       "        [1.],\n",
       "        [2.],\n",
       "        [1.],\n",
       "        [2.]])"
      ]
     },
     "execution_count": 53,
     "metadata": {},
     "output_type": "execute_result"
    }
   ],
   "source": [
    "y"
   ]
  },
  {
   "cell_type": "code",
   "execution_count": 32,
   "id": "8e8d4d64",
   "metadata": {},
   "outputs": [
    {
     "data": {
      "text/plain": [
       "(8, 5, 23)"
      ]
     },
     "execution_count": 32,
     "metadata": {},
     "output_type": "execute_result"
    }
   ],
   "source": [
    "stock_ids = list(range(10))\n",
    "date_id = 0\n",
    "time = 5\n",
    "daily_batchs = []\n",
    "for stock in stock_ids:\n",
    "    if gen_filename(stock, date_id, 'am') not in file_list:\n",
    "        continue\n",
    "    am_df = pd.read_csv(gen_filename(stock, date_id, 'am'))\n",
    "    pm_df = pd.read_csv(gen_filename(stock, date_id, 'pm'))\n",
    "    df = pd.concat([am_df, pm_df])\n",
    "    df = df.iloc[0:time, 4:-5]\n",
    "    daily_batchs.append(np.array(df))\n",
    "np.array(daily_batchs).shape"
   ]
  },
  {
   "cell_type": "code",
   "execution_count": null,
   "id": "9689c559",
   "metadata": {},
   "outputs": [],
   "source": []
  },
  {
   "cell_type": "code",
   "execution_count": 5,
   "id": "b9d46f36",
   "metadata": {},
   "outputs": [],
   "source": [
    "am_df = pd.read_csv(gen_filename(0, 0, 'am'))\n",
    "pm_df = pd.read_csv(gen_filename(0, 0, 'pm'))"
   ]
  },
  {
   "cell_type": "code",
   "execution_count": 12,
   "id": "2c5485ff",
   "metadata": {},
   "outputs": [
    {
     "data": {
      "text/html": [
       "<div>\n",
       "<style scoped>\n",
       "    .dataframe tbody tr th:only-of-type {\n",
       "        vertical-align: middle;\n",
       "    }\n",
       "\n",
       "    .dataframe tbody tr th {\n",
       "        vertical-align: top;\n",
       "    }\n",
       "\n",
       "    .dataframe thead th {\n",
       "        text-align: right;\n",
       "    }\n",
       "</style>\n",
       "<table border=\"1\" class=\"dataframe\">\n",
       "  <thead>\n",
       "    <tr style=\"text-align: right;\">\n",
       "      <th></th>\n",
       "      <th>uuid</th>\n",
       "      <th>date</th>\n",
       "      <th>time</th>\n",
       "      <th>sym</th>\n",
       "      <th>n_close</th>\n",
       "      <th>amount_delta</th>\n",
       "      <th>n_midprice</th>\n",
       "      <th>n_bid1</th>\n",
       "      <th>n_bsize1</th>\n",
       "      <th>n_bid2</th>\n",
       "      <th>...</th>\n",
       "      <th>n_asize3</th>\n",
       "      <th>n_ask4</th>\n",
       "      <th>n_asize4</th>\n",
       "      <th>n_ask5</th>\n",
       "      <th>n_asize5</th>\n",
       "      <th>label_5</th>\n",
       "      <th>label_10</th>\n",
       "      <th>label_20</th>\n",
       "      <th>label_40</th>\n",
       "      <th>label_60</th>\n",
       "    </tr>\n",
       "  </thead>\n",
       "  <tbody>\n",
       "    <tr>\n",
       "      <th>0</th>\n",
       "      <td>0</td>\n",
       "      <td>0</td>\n",
       "      <td>09:40:03</td>\n",
       "      <td>0</td>\n",
       "      <td>0.015691</td>\n",
       "      <td>2594895.0</td>\n",
       "      <td>0.015270</td>\n",
       "      <td>0.015130</td>\n",
       "      <td>1.961524e-06</td>\n",
       "      <td>0.014850</td>\n",
       "      <td>...</td>\n",
       "      <td>1.005697e-05</td>\n",
       "      <td>0.016251</td>\n",
       "      <td>0.000005</td>\n",
       "      <td>0.016531</td>\n",
       "      <td>0.000016</td>\n",
       "      <td>1</td>\n",
       "      <td>0</td>\n",
       "      <td>0</td>\n",
       "      <td>0</td>\n",
       "      <td>0</td>\n",
       "    </tr>\n",
       "    <tr>\n",
       "      <th>1</th>\n",
       "      <td>1</td>\n",
       "      <td>0</td>\n",
       "      <td>09:40:06</td>\n",
       "      <td>0</td>\n",
       "      <td>0.015410</td>\n",
       "      <td>837314.0</td>\n",
       "      <td>0.015410</td>\n",
       "      <td>0.015130</td>\n",
       "      <td>3.424355e-06</td>\n",
       "      <td>0.014850</td>\n",
       "      <td>...</td>\n",
       "      <td>5.053418e-06</td>\n",
       "      <td>0.016531</td>\n",
       "      <td>0.000016</td>\n",
       "      <td>0.016811</td>\n",
       "      <td>0.000018</td>\n",
       "      <td>0</td>\n",
       "      <td>0</td>\n",
       "      <td>0</td>\n",
       "      <td>0</td>\n",
       "      <td>0</td>\n",
       "    </tr>\n",
       "    <tr>\n",
       "      <th>2</th>\n",
       "      <td>2</td>\n",
       "      <td>0</td>\n",
       "      <td>09:40:09</td>\n",
       "      <td>0</td>\n",
       "      <td>0.015130</td>\n",
       "      <td>184807.0</td>\n",
       "      <td>0.015270</td>\n",
       "      <td>0.015130</td>\n",
       "      <td>3.158386e-06</td>\n",
       "      <td>0.014850</td>\n",
       "      <td>...</td>\n",
       "      <td>1.083825e-05</td>\n",
       "      <td>0.016251</td>\n",
       "      <td>0.000005</td>\n",
       "      <td>0.016531</td>\n",
       "      <td>0.000017</td>\n",
       "      <td>1</td>\n",
       "      <td>0</td>\n",
       "      <td>0</td>\n",
       "      <td>0</td>\n",
       "      <td>0</td>\n",
       "    </tr>\n",
       "    <tr>\n",
       "      <th>3</th>\n",
       "      <td>3</td>\n",
       "      <td>0</td>\n",
       "      <td>09:40:12</td>\n",
       "      <td>0</td>\n",
       "      <td>0.015691</td>\n",
       "      <td>500046.0</td>\n",
       "      <td>0.015551</td>\n",
       "      <td>0.015410</td>\n",
       "      <td>4.155771e-07</td>\n",
       "      <td>0.015130</td>\n",
       "      <td>...</td>\n",
       "      <td>5.053418e-06</td>\n",
       "      <td>0.016531</td>\n",
       "      <td>0.000016</td>\n",
       "      <td>0.016811</td>\n",
       "      <td>0.000018</td>\n",
       "      <td>0</td>\n",
       "      <td>0</td>\n",
       "      <td>0</td>\n",
       "      <td>0</td>\n",
       "      <td>0</td>\n",
       "    </tr>\n",
       "    <tr>\n",
       "      <th>4</th>\n",
       "      <td>4</td>\n",
       "      <td>0</td>\n",
       "      <td>09:40:15</td>\n",
       "      <td>0</td>\n",
       "      <td>0.014290</td>\n",
       "      <td>1785635.0</td>\n",
       "      <td>0.014710</td>\n",
       "      <td>0.014290</td>\n",
       "      <td>9.308927e-06</td>\n",
       "      <td>0.014010</td>\n",
       "      <td>...</td>\n",
       "      <td>3.612296e-05</td>\n",
       "      <td>0.015971</td>\n",
       "      <td>0.000009</td>\n",
       "      <td>0.016251</td>\n",
       "      <td>0.000005</td>\n",
       "      <td>1</td>\n",
       "      <td>0</td>\n",
       "      <td>0</td>\n",
       "      <td>0</td>\n",
       "      <td>0</td>\n",
       "    </tr>\n",
       "    <tr>\n",
       "      <th>...</th>\n",
       "      <td>...</td>\n",
       "      <td>...</td>\n",
       "      <td>...</td>\n",
       "      <td>...</td>\n",
       "      <td>...</td>\n",
       "      <td>...</td>\n",
       "      <td>...</td>\n",
       "      <td>...</td>\n",
       "      <td>...</td>\n",
       "      <td>...</td>\n",
       "      <td>...</td>\n",
       "      <td>...</td>\n",
       "      <td>...</td>\n",
       "      <td>...</td>\n",
       "      <td>...</td>\n",
       "      <td>...</td>\n",
       "      <td>...</td>\n",
       "      <td>...</td>\n",
       "      <td>...</td>\n",
       "      <td>...</td>\n",
       "      <td>...</td>\n",
       "    </tr>\n",
       "    <tr>\n",
       "      <th>1994</th>\n",
       "      <td>1994</td>\n",
       "      <td>0</td>\n",
       "      <td>11:19:45</td>\n",
       "      <td>0</td>\n",
       "      <td>0.007845</td>\n",
       "      <td>115107.0</td>\n",
       "      <td>0.008126</td>\n",
       "      <td>0.007845</td>\n",
       "      <td>1.163616e-07</td>\n",
       "      <td>0.007565</td>\n",
       "      <td>...</td>\n",
       "      <td>1.662308e-08</td>\n",
       "      <td>0.009246</td>\n",
       "      <td>0.000004</td>\n",
       "      <td>0.009526</td>\n",
       "      <td>0.000004</td>\n",
       "      <td>1</td>\n",
       "      <td>1</td>\n",
       "      <td>1</td>\n",
       "      <td>1</td>\n",
       "      <td>1</td>\n",
       "    </tr>\n",
       "    <tr>\n",
       "      <th>1995</th>\n",
       "      <td>1995</td>\n",
       "      <td>0</td>\n",
       "      <td>11:19:48</td>\n",
       "      <td>0</td>\n",
       "      <td>0.007845</td>\n",
       "      <td>35970.0</td>\n",
       "      <td>0.008126</td>\n",
       "      <td>0.007845</td>\n",
       "      <td>3.324617e-08</td>\n",
       "      <td>0.007565</td>\n",
       "      <td>...</td>\n",
       "      <td>1.662308e-08</td>\n",
       "      <td>0.009246</td>\n",
       "      <td>0.000004</td>\n",
       "      <td>0.009526</td>\n",
       "      <td>0.000004</td>\n",
       "      <td>1</td>\n",
       "      <td>1</td>\n",
       "      <td>1</td>\n",
       "      <td>1</td>\n",
       "      <td>1</td>\n",
       "    </tr>\n",
       "    <tr>\n",
       "      <th>1996</th>\n",
       "      <td>1996</td>\n",
       "      <td>0</td>\n",
       "      <td>11:19:51</td>\n",
       "      <td>0</td>\n",
       "      <td>0.008686</td>\n",
       "      <td>348378.0</td>\n",
       "      <td>0.008826</td>\n",
       "      <td>0.008686</td>\n",
       "      <td>5.352633e-08</td>\n",
       "      <td>0.007845</td>\n",
       "      <td>...</td>\n",
       "      <td>3.797876e-06</td>\n",
       "      <td>0.009807</td>\n",
       "      <td>0.000005</td>\n",
       "      <td>0.010087</td>\n",
       "      <td>0.000006</td>\n",
       "      <td>1</td>\n",
       "      <td>0</td>\n",
       "      <td>1</td>\n",
       "      <td>1</td>\n",
       "      <td>1</td>\n",
       "    </tr>\n",
       "    <tr>\n",
       "      <th>1997</th>\n",
       "      <td>1997</td>\n",
       "      <td>0</td>\n",
       "      <td>11:19:54</td>\n",
       "      <td>0</td>\n",
       "      <td>0.008686</td>\n",
       "      <td>54806.0</td>\n",
       "      <td>0.008266</td>\n",
       "      <td>0.007845</td>\n",
       "      <td>1.496078e-07</td>\n",
       "      <td>0.007565</td>\n",
       "      <td>...</td>\n",
       "      <td>3.797876e-06</td>\n",
       "      <td>0.009807</td>\n",
       "      <td>0.000005</td>\n",
       "      <td>0.010087</td>\n",
       "      <td>0.000006</td>\n",
       "      <td>2</td>\n",
       "      <td>0</td>\n",
       "      <td>1</td>\n",
       "      <td>1</td>\n",
       "      <td>1</td>\n",
       "    </tr>\n",
       "    <tr>\n",
       "      <th>1998</th>\n",
       "      <td>1998</td>\n",
       "      <td>0</td>\n",
       "      <td>11:19:57</td>\n",
       "      <td>0</td>\n",
       "      <td>0.008686</td>\n",
       "      <td>25200.0</td>\n",
       "      <td>0.008546</td>\n",
       "      <td>0.008406</td>\n",
       "      <td>8.311542e-08</td>\n",
       "      <td>0.007845</td>\n",
       "      <td>...</td>\n",
       "      <td>3.797876e-06</td>\n",
       "      <td>0.009807</td>\n",
       "      <td>0.000005</td>\n",
       "      <td>0.010087</td>\n",
       "      <td>0.000006</td>\n",
       "      <td>1</td>\n",
       "      <td>0</td>\n",
       "      <td>1</td>\n",
       "      <td>1</td>\n",
       "      <td>1</td>\n",
       "    </tr>\n",
       "  </tbody>\n",
       "</table>\n",
       "<p>1999 rows × 32 columns</p>\n",
       "</div>"
      ],
      "text/plain": [
       "      uuid  date      time  sym   n_close  amount_delta  n_midprice    n_bid1  \\\n",
       "0        0     0  09:40:03    0  0.015691     2594895.0    0.015270  0.015130   \n",
       "1        1     0  09:40:06    0  0.015410      837314.0    0.015410  0.015130   \n",
       "2        2     0  09:40:09    0  0.015130      184807.0    0.015270  0.015130   \n",
       "3        3     0  09:40:12    0  0.015691      500046.0    0.015551  0.015410   \n",
       "4        4     0  09:40:15    0  0.014290     1785635.0    0.014710  0.014290   \n",
       "...    ...   ...       ...  ...       ...           ...         ...       ...   \n",
       "1994  1994     0  11:19:45    0  0.007845      115107.0    0.008126  0.007845   \n",
       "1995  1995     0  11:19:48    0  0.007845       35970.0    0.008126  0.007845   \n",
       "1996  1996     0  11:19:51    0  0.008686      348378.0    0.008826  0.008686   \n",
       "1997  1997     0  11:19:54    0  0.008686       54806.0    0.008266  0.007845   \n",
       "1998  1998     0  11:19:57    0  0.008686       25200.0    0.008546  0.008406   \n",
       "\n",
       "          n_bsize1    n_bid2  ...      n_asize3    n_ask4  n_asize4    n_ask5  \\\n",
       "0     1.961524e-06  0.014850  ...  1.005697e-05  0.016251  0.000005  0.016531   \n",
       "1     3.424355e-06  0.014850  ...  5.053418e-06  0.016531  0.000016  0.016811   \n",
       "2     3.158386e-06  0.014850  ...  1.083825e-05  0.016251  0.000005  0.016531   \n",
       "3     4.155771e-07  0.015130  ...  5.053418e-06  0.016531  0.000016  0.016811   \n",
       "4     9.308927e-06  0.014010  ...  3.612296e-05  0.015971  0.000009  0.016251   \n",
       "...            ...       ...  ...           ...       ...       ...       ...   \n",
       "1994  1.163616e-07  0.007565  ...  1.662308e-08  0.009246  0.000004  0.009526   \n",
       "1995  3.324617e-08  0.007565  ...  1.662308e-08  0.009246  0.000004  0.009526   \n",
       "1996  5.352633e-08  0.007845  ...  3.797876e-06  0.009807  0.000005  0.010087   \n",
       "1997  1.496078e-07  0.007565  ...  3.797876e-06  0.009807  0.000005  0.010087   \n",
       "1998  8.311542e-08  0.007845  ...  3.797876e-06  0.009807  0.000005  0.010087   \n",
       "\n",
       "      n_asize5  label_5  label_10  label_20  label_40  label_60  \n",
       "0     0.000016        1         0         0         0         0  \n",
       "1     0.000018        0         0         0         0         0  \n",
       "2     0.000017        1         0         0         0         0  \n",
       "3     0.000018        0         0         0         0         0  \n",
       "4     0.000005        1         0         0         0         0  \n",
       "...        ...      ...       ...       ...       ...       ...  \n",
       "1994  0.000004        1         1         1         1         1  \n",
       "1995  0.000004        1         1         1         1         1  \n",
       "1996  0.000006        1         0         1         1         1  \n",
       "1997  0.000006        2         0         1         1         1  \n",
       "1998  0.000006        1         0         1         1         1  \n",
       "\n",
       "[1999 rows x 32 columns]"
      ]
     },
     "execution_count": 12,
     "metadata": {},
     "output_type": "execute_result"
    }
   ],
   "source": [
    "am_df"
   ]
  },
  {
   "cell_type": "code",
   "execution_count": 15,
   "id": "c6004416",
   "metadata": {},
   "outputs": [
    {
     "data": {
      "text/plain": [
       "Index(['n_close', 'amount_delta', 'n_midprice', 'n_bid1', 'n_bsize1', 'n_bid2',\n",
       "       'n_bsize2', 'n_bid3', 'n_bsize3', 'n_bid4', 'n_bsize4', 'n_bid5',\n",
       "       'n_bsize5', 'n_ask1', 'n_asize1', 'n_ask2', 'n_asize2', 'n_ask3',\n",
       "       'n_asize3', 'n_ask4', 'n_asize4', 'n_ask5', 'n_asize5'],\n",
       "      dtype='object')"
      ]
     },
     "execution_count": 15,
     "metadata": {},
     "output_type": "execute_result"
    }
   ],
   "source": [
    "am_df.columns[4:-5]"
   ]
  }
 ],
 "metadata": {
  "kernelspec": {
   "display_name": "Python 3",
   "language": "python",
   "name": "python3"
  },
  "language_info": {
   "name": "python",
   "version": "3.11.5"
  }
 },
 "nbformat": 4,
 "nbformat_minor": 5
}
