{
 "cells": [
  {
   "cell_type": "code",
   "execution_count": 9,
   "metadata": {},
   "outputs": [],
   "source": [
    "import pandas as pd\n",
    "import numpy as np\n",
    "import torch\n",
    "from torch.utils.data import Dataset, DataLoader\n",
    "from typing import Any"
   ]
  },
  {
   "cell_type": "code",
   "execution_count": 10,
   "metadata": {},
   "outputs": [],
   "source": [
    "config: dict = {\n",
    "    'gpu': 'mps',\n",
    "    'data_dir': './train_data.npy',\n",
    "    'label_dir': './train_labels.npy',\n",
    "    'batch_size': 16,\n",
    "    'train_ratio':.8\n",
    "}"
   ]
  },
  {
   "cell_type": "code",
   "execution_count": 11,
   "metadata": {},
   "outputs": [],
   "source": [
    "class LOBDataset(Dataset):\n",
    "    def __init__(self,\n",
    "                 data: torch.tensor, \n",
    "                 labels:torch.tensor,\n",
    "                #  is_Train: bool = True, \n",
    "                 ) -> None:\n",
    "        super().__init__()\n",
    "        # if is_train is True:\n",
    "        self.data = data\n",
    "        self.labels= labels\n",
    "        # 都是float32的数据了\n",
    "\n",
    "    def __len__(self):\n",
    "        return self.labels.shape[0]\n",
    "\n",
    "    def __getitem__(self, index) -> Any:\n",
    "        return self.data[index].to(config['gpu']), self.labels[index].to(config['gpu'])\n",
    "\n",
    "    # TODO: 划分训练集和测试集"
   ]
  },
  {
   "cell_type": "code",
   "execution_count": 12,
   "metadata": {},
   "outputs": [],
   "source": [
    "def get_dataloader(batch_size:int, train_ratio:float, label_idx: int = 0,\n",
    "                   )->tuple[DataLoader,DataLoader]:\n",
    "    '''read data from file and return a tuple of DataLoader'''\n",
    "    data_dir = config['data_dir']\n",
    "    label_dir = config['label_dir']\n",
    "\n",
    "    data: torch.tensor = torch.from_numpy(np.load(data_dir))\n",
    "    labels: torch.tensor = torch.from_numpy(np.load(label_dir))\n",
    "    # TODO 暴力切一刀是有问题的\n",
    "    train_data = data[:round(train_ratio * data.shape[0])]\n",
    "    train_labels = labels[:round(train_ratio * data.shape[0]),label_idx]\n",
    "\n",
    "    valid_data = data[round(train_ratio * data.shape[0]):]\n",
    "    valid_labels = labels[round(train_ratio * data.shape[0]):,label_idx]\n",
    "\n",
    "    train_iter = DataLoader(LOBDataset(train_data, train_labels),batch_size=batch_size, shuffle=False)\n",
    "    valid_iter = DataLoader(LOBDataset(valid_data, valid_labels),batch_size=batch_size, shuffle=False)\n",
    "    return train_iter, valid_iter"
   ]
  },
  {
   "cell_type": "code",
   "execution_count": 13,
   "metadata": {},
   "outputs": [
    {
     "name": "stdout",
     "output_type": "stream",
     "text": [
      "torch.float32\n",
      "torch.Size([16, 26])\n"
     ]
    }
   ],
   "source": [
    "train_iter, valid_iter = get_dataloader(batch_size=config['batch_size'], train_ratio=config['train_ratio'])\n",
    "m = next(iter(train_iter))\n",
    "print(m[0].dtype)\n",
    "print(m[0].shape)"
   ]
  }
 ],
 "metadata": {
  "kernelspec": {
   "display_name": "pytorch",
   "language": "python",
   "name": "python3"
  },
  "language_info": {
   "codemirror_mode": {
    "name": "ipython",
    "version": 3
   },
   "file_extension": ".py",
   "mimetype": "text/x-python",
   "name": "python",
   "nbconvert_exporter": "python",
   "pygments_lexer": "ipython3",
   "version": "3.11.4"
  }
 },
 "nbformat": 4,
 "nbformat_minor": 2
}
